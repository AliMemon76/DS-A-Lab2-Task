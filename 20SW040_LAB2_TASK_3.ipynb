{
  "nbformat": 4,
  "nbformat_minor": 0,
  "metadata": {
    "colab": {
      "provenance": [],
      "authorship_tag": "ABX9TyMP3sdncUdqPLnSUZt6xv9U",
      "include_colab_link": true
    },
    "kernelspec": {
      "name": "python3",
      "display_name": "Python 3"
    },
    "language_info": {
      "name": "python"
    }
  },
  "cells": [
    {
      "cell_type": "markdown",
      "metadata": {
        "id": "view-in-github",
        "colab_type": "text"
      },
      "source": [
        "<a href=\"https://colab.research.google.com/github/AliMemon76/DS-A-Lab2-Task/blob/main/20SW040_LAB2_TASK_3.ipynb\" target=\"_parent\"><img src=\"https://colab.research.google.com/assets/colab-badge.svg\" alt=\"Open In Colab\"/></a>"
      ]
    },
    {
      "cell_type": "code",
      "execution_count": 1,
      "metadata": {
        "colab": {
          "base_uri": "https://localhost:8080/"
        },
        "id": "ctSSixLSHpVm",
        "outputId": "7adf81fc-8a19-47c0-c37d-864a54e173be"
      },
      "outputs": [
        {
          "output_type": "stream",
          "name": "stdout",
          "text": [
            "Congratulations! You won a wafer-thin mint!\n"
          ]
        }
      ],
      "source": [
        "# Task 1\n",
        "points = 174\n",
        "\n",
        "if points <= 50:\n",
        "    result = \"Congratulations! You won a wooden rabbit!\"\n",
        "elif points <= 150:\n",
        "    result = \"Oh dear, no prize this time.\"\n",
        "elif points <= 180:\n",
        "    result = \"Congratulations! You won a wafer-thin mint!\"\n",
        "else:\n",
        "    result = \"Congratulations! You won a penguin!\"\n",
        "\n",
        "print(result)"
      ]
    },
    {
      "cell_type": "code",
      "source": [
        "# Task 2 Guess My Number\n",
        "answer = 3\n",
        "guess = 3\n",
        "\n",
        "if guess < answer:\n",
        "    result = \"Oops!  Your guess was too low.\"\n",
        "elif guess > answer:\n",
        "    result = \"Oops!  Your guess was too high.\"\n",
        "elif guess == answer:\n",
        "    result = \"Nice!  Your guess matched the answer!\"\n",
        "\n",
        "print(result)"
      ],
      "metadata": {
        "colab": {
          "base_uri": "https://localhost:8080/"
        },
        "id": "knLYZGtkHuhG",
        "outputId": "fb0b808d-6978-4716-bb99-c92e1af4c0dc"
      },
      "execution_count": 2,
      "outputs": [
        {
          "output_type": "stream",
          "name": "stdout",
          "text": [
            "Nice!  Your guess matched the answer!\n"
          ]
        }
      ]
    },
    {
      "cell_type": "code",
      "source": [
        "# Task 3\n",
        "\n",
        "state = 'CA'\n",
        "purchase_amount = 100\n",
        "\n",
        "if state == 'CA':\n",
        "    tax_amount = .075\n",
        "    total_cost = purchase_amount + (purchase_amount * tax_amount)\n",
        "    result = \"Since you're from {}, your total cost is {}.\".format(state, total_cost)\n",
        "\n",
        "elif state == 'MN':\n",
        "    tax_amount = .095\n",
        "    total_cost = purchase_amount*(1+tax_amount)\n",
        "    result = \"Since you're from {}, your total cost is {}.\".format(state, total_cost)\n",
        "\n",
        "elif state == 'NY':\n",
        "    tax_amount = .089\n",
        "    total_cost = purchase_amount*(1+tax_amount)\n",
        "    result = \"Since you're from {}, your total cost is {}.\".format(state, total_cost)\n",
        "\n",
        "print(result)"
      ],
      "metadata": {
        "colab": {
          "base_uri": "https://localhost:8080/"
        },
        "id": "6YMgN_ipHzs-",
        "outputId": "4b4c3321-267d-423d-e1b9-9de1701f105e"
      },
      "execution_count": 3,
      "outputs": [
        {
          "output_type": "stream",
          "name": "stdout",
          "text": [
            "Since you're from CA, your total cost is 107.5.\n"
          ]
        }
      ]
    },
    {
      "cell_type": "code",
      "source": [
        "# Task 4\n",
        "sentence = [\"the\", \"quick\", \"brown\", \"fox\", \"jumped\", \"over\", \"the\", \"lazy\", \"dog\"]\n",
        "\n",
        "# for loop to print out each word in the sentence list, one word per line\n",
        "\n",
        "for word in sentence:\n",
        "    print(word)"
      ],
      "metadata": {
        "colab": {
          "base_uri": "https://localhost:8080/"
        },
        "id": "dvGorZE6H6jq",
        "outputId": "8bb233bd-89d0-4175-add6-002af372e920"
      },
      "execution_count": 4,
      "outputs": [
        {
          "output_type": "stream",
          "name": "stdout",
          "text": [
            "the\n",
            "quick\n",
            "brown\n",
            "fox\n",
            "jumped\n",
            "over\n",
            "the\n",
            "lazy\n",
            "dog\n"
          ]
        }
      ]
    },
    {
      "cell_type": "code",
      "source": [
        "# Task 5\n",
        "l = [i for i in range(1,31,1) if i%5 == 0]\n",
        "print(l)"
      ],
      "metadata": {
        "colab": {
          "base_uri": "https://localhost:8080/"
        },
        "id": "HN23Yg3KH_zv",
        "outputId": "a50c6ebd-2d65-4403-ff25-0f6d367df20a"
      },
      "execution_count": 5,
      "outputs": [
        {
          "output_type": "stream",
          "name": "stdout",
          "text": [
            "[5, 10, 15, 20, 25, 30]\n"
          ]
        }
      ]
    },
    {
      "cell_type": "code",
      "source": [
        "# Task 6 Extract First Names\n",
        "names = [\"Rick Sanchez\", \"Morty Smith\", \"Summer Smith\", \"Jerry Smith\", \"Beth Smith\"]\n",
        "\n",
        "first_names = [name.lower().split()[0] for name in names]\n",
        "\n",
        "print(first_names)"
      ],
      "metadata": {
        "colab": {
          "base_uri": "https://localhost:8080/"
        },
        "id": "eGk0ybAQIDyX",
        "outputId": "7716b6c0-6578-4279-de1f-50c61926bcf9"
      },
      "execution_count": 6,
      "outputs": [
        {
          "output_type": "stream",
          "name": "stdout",
          "text": [
            "['rick', 'morty', 'summer', 'jerry', 'beth']\n"
          ]
        }
      ]
    },
    {
      "cell_type": "code",
      "source": [
        "# Task 7 Multiples of Three\n",
        "multiples_3 = [x * 3 for x in range(1, 21)]\n",
        "print(multiples_3)"
      ],
      "metadata": {
        "colab": {
          "base_uri": "https://localhost:8080/"
        },
        "id": "c9gRexCBIMMn",
        "outputId": "ee4e2203-0db9-401e-c5ec-7c7f314fd333"
      },
      "execution_count": 7,
      "outputs": [
        {
          "output_type": "stream",
          "name": "stdout",
          "text": [
            "[3, 6, 9, 12, 15, 18, 21, 24, 27, 30, 33, 36, 39, 42, 45, 48, 51, 54, 57, 60]\n"
          ]
        }
      ]
    },
    {
      "cell_type": "code",
      "source": [
        "# Task 8 Filter Names by Scores\n",
        "scores = {\n",
        "             \"Rick Sanchez\": 70,\n",
        "             \"Morty Smith\": 35,\n",
        "             \"Summer Smith\": 82,\n",
        "             \"Jerry Smith\": 23,\n",
        "             \"Beth Smith\": 98\n",
        "          }\n",
        "\n",
        "\n",
        "passed = [name for name, value in scores.items() if value >= 65]\n",
        "print(passed)\n"
      ],
      "metadata": {
        "colab": {
          "base_uri": "https://localhost:8080/"
        },
        "id": "8aAuR50IIQnR",
        "outputId": "51fa707e-9968-4466-f138-754512ea8518"
      },
      "execution_count": 8,
      "outputs": [
        {
          "output_type": "stream",
          "name": "stdout",
          "text": [
            "['Rick Sanchez', 'Summer Smith', 'Beth Smith']\n"
          ]
        }
      ]
    },
    {
      "cell_type": "code",
      "source": [
        "# Task 9 Zip Lists to a Dictionary\n",
        "cast_names = [\"Barney\", \"Robin\", \"Ted\", \"Lily\", \"Marshall\"]\n",
        "cast_heights = [72, 68, 72, 66, 76]\n",
        "\n",
        "cast = dict(zip(cast_names, cast_heights))\n",
        "\n",
        "print(cast)"
      ],
      "metadata": {
        "colab": {
          "base_uri": "https://localhost:8080/"
        },
        "id": "2R63plKCIVdA",
        "outputId": "084fde89-a563-4f06-9a96-762085846994"
      },
      "execution_count": 9,
      "outputs": [
        {
          "output_type": "stream",
          "name": "stdout",
          "text": [
            "{'Barney': 72, 'Robin': 68, 'Ted': 72, 'Lily': 66, 'Marshall': 76}\n"
          ]
        }
      ]
    },
    {
      "cell_type": "code",
      "source": [
        "# Task 10   Use enumerate to modify the cast list so that each element contains the name\n",
        "cast = [\"Barney Stinson\", \"Robin Scherbatsky\", \"Ted Mosby\", \"Lily Aldrin\", \"Marshall Eriksen\"]\n",
        "heights = [72, 68, 72, 66, 76]\n",
        "\n",
        "for index, height in enumerate(heights):\n",
        "    s = \"{} {}\".format(cast[index], height)\n",
        "    cast[index] = s\n",
        "\n",
        "print(cast)"
      ],
      "metadata": {
        "colab": {
          "base_uri": "https://localhost:8080/"
        },
        "id": "JjKAQ2SbIa3Q",
        "outputId": "675a3701-41cb-4511-fe7f-610e50212178"
      },
      "execution_count": 10,
      "outputs": [
        {
          "output_type": "stream",
          "name": "stdout",
          "text": [
            "['Barney Stinson 72', 'Robin Scherbatsky 68', 'Ted Mosby 72', 'Lily Aldrin 66', 'Marshall Eriksen 76']\n"
          ]
        }
      ]
    }
  ]
}